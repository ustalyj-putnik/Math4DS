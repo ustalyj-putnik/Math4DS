{
 "cells": [
  {
   "cell_type": "code",
   "execution_count": 3,
   "id": "8dfff911",
   "metadata": {
    "tags": []
   },
   "outputs": [],
   "source": [
    "import igraph as ig\n",
    "import pandas as pd"
   ]
  },
  {
   "cell_type": "markdown",
   "id": "30e74494-abf3-4905-a384-769852a08d12",
   "metadata": {},
   "source": [
    "## Строим граф"
   ]
  },
  {
   "cell_type": "code",
   "execution_count": 2,
   "id": "da8a5ce2",
   "metadata": {
    "tags": []
   },
   "outputs": [],
   "source": [
    "graph=ig.Graph.Load('graph.txt')"
   ]
  },
  {
   "cell_type": "code",
   "execution_count": 4,
   "id": "1c9e0940",
   "metadata": {},
   "outputs": [],
   "source": [
    "graph.to_undirected()"
   ]
  },
  {
   "cell_type": "markdown",
   "id": "055cb800-80e7-4a3f-9b6b-445331abd6c4",
   "metadata": {},
   "source": [
    "## Рассчитываем центральности (по близости, посредничеству и собственному значению)"
   ]
  },
  {
   "cell_type": "code",
   "execution_count": 6,
   "id": "a9475db4",
   "metadata": {},
   "outputs": [],
   "source": [
    "graph_closeness=graph.closeness()"
   ]
  },
  {
   "cell_type": "code",
   "execution_count": 7,
   "id": "9fbf0fa2",
   "metadata": {},
   "outputs": [],
   "source": [
    "graph_betweenness=graph.betweenness()"
   ]
  },
  {
   "cell_type": "code",
   "execution_count": 8,
   "id": "f6bdab0f",
   "metadata": {},
   "outputs": [],
   "source": [
    "graph_eigenvector=graph.eigenvector_centrality()"
   ]
  },
  {
   "cell_type": "markdown",
   "id": "869872e9-369b-42a8-b95a-90cdc6141ab3",
   "metadata": {},
   "source": [
    "## Добавляем центральности каждому человеку в списке"
   ]
  },
  {
   "cell_type": "code",
   "execution_count": 9,
   "id": "3b0c07f2",
   "metadata": {},
   "outputs": [],
   "source": [
    "people=pd.read_csv('people.csv')\n",
    "people=people.drop(columns=['Unnamed: 0'], axis=1)\n",
    "people['closeness']=graph_closeness\n",
    "people['betweenness']=graph_betweenness\n",
    "people['eigenvector']=graph_eigenvector"
   ]
  },
  {
   "cell_type": "markdown",
   "id": "e9ab363d-1101-4f2f-a851-582ebd097655",
   "metadata": {},
   "source": [
    "## Центральность по близости"
   ]
  },
  {
   "cell_type": "code",
   "execution_count": 11,
   "id": "66840531",
   "metadata": {},
   "outputs": [
    {
     "data": {
      "text/html": [
       "<div>\n",
       "<style scoped>\n",
       "    .dataframe tbody tr th:only-of-type {\n",
       "        vertical-align: middle;\n",
       "    }\n",
       "\n",
       "    .dataframe tbody tr th {\n",
       "        vertical-align: top;\n",
       "    }\n",
       "\n",
       "    .dataframe thead th {\n",
       "        text-align: right;\n",
       "    }\n",
       "</style>\n",
       "<table border=\"1\" class=\"dataframe\">\n",
       "  <thead>\n",
       "    <tr style=\"text-align: right;\">\n",
       "      <th></th>\n",
       "      <th>ФИО</th>\n",
       "      <th>closeness</th>\n",
       "    </tr>\n",
       "  </thead>\n",
       "  <tbody>\n",
       "    <tr>\n",
       "      <th>2</th>\n",
       "      <td>Васильев Даниил</td>\n",
       "      <td>0.308360</td>\n",
       "    </tr>\n",
       "    <tr>\n",
       "      <th>8</th>\n",
       "      <td>Уваров Андрей</td>\n",
       "      <td>0.303303</td>\n",
       "    </tr>\n",
       "    <tr>\n",
       "      <th>0</th>\n",
       "      <td>Алексеева Екатерина</td>\n",
       "      <td>0.286414</td>\n",
       "    </tr>\n",
       "    <tr>\n",
       "      <th>3</th>\n",
       "      <td>Воронов Кирилл</td>\n",
       "      <td>0.277571</td>\n",
       "    </tr>\n",
       "    <tr>\n",
       "      <th>7</th>\n",
       "      <td>Пивницкий Даниэль</td>\n",
       "      <td>0.270062</td>\n",
       "    </tr>\n",
       "    <tr>\n",
       "      <th>4</th>\n",
       "      <td>Гребенков Дмитрий</td>\n",
       "      <td>0.251088</td>\n",
       "    </tr>\n",
       "    <tr>\n",
       "      <th>9</th>\n",
       "      <td>Шубин Григорий</td>\n",
       "      <td>0.249791</td>\n",
       "    </tr>\n",
       "    <tr>\n",
       "      <th>1</th>\n",
       "      <td>Бирюков Виктор</td>\n",
       "      <td>0.247950</td>\n",
       "    </tr>\n",
       "    <tr>\n",
       "      <th>6</th>\n",
       "      <td>Новиков Никита</td>\n",
       "      <td>0.229791</td>\n",
       "    </tr>\n",
       "    <tr>\n",
       "      <th>5</th>\n",
       "      <td>Ляшун Дмитрий</td>\n",
       "      <td>0.228674</td>\n",
       "    </tr>\n",
       "  </tbody>\n",
       "</table>\n",
       "</div>"
      ],
      "text/plain": [
       "                   ФИО  closeness\n",
       "2      Васильев Даниил   0.308360\n",
       "8        Уваров Андрей   0.303303\n",
       "0  Алексеева Екатерина   0.286414\n",
       "3       Воронов Кирилл   0.277571\n",
       "7    Пивницкий Даниэль   0.270062\n",
       "4    Гребенков Дмитрий   0.251088\n",
       "9       Шубин Григорий   0.249791\n",
       "1       Бирюков Виктор   0.247950\n",
       "6       Новиков Никита   0.229791\n",
       "5        Ляшун Дмитрий   0.228674"
      ]
     },
     "execution_count": 11,
     "metadata": {},
     "output_type": "execute_result"
    }
   ],
   "source": [
    "people[people['level']==0].sort_values(by='closeness', ascending=False)[['ФИО', 'closeness']]"
   ]
  },
  {
   "cell_type": "markdown",
   "id": "4e1f9b85-db60-47e8-a469-1e5a88196a3d",
   "metadata": {},
   "source": [
    "## Центральность по посредничеству"
   ]
  },
  {
   "cell_type": "code",
   "execution_count": 12,
   "id": "1968a3de",
   "metadata": {},
   "outputs": [
    {
     "data": {
      "text/html": [
       "<div>\n",
       "<style scoped>\n",
       "    .dataframe tbody tr th:only-of-type {\n",
       "        vertical-align: middle;\n",
       "    }\n",
       "\n",
       "    .dataframe tbody tr th {\n",
       "        vertical-align: top;\n",
       "    }\n",
       "\n",
       "    .dataframe thead th {\n",
       "        text-align: right;\n",
       "    }\n",
       "</style>\n",
       "<table border=\"1\" class=\"dataframe\">\n",
       "  <thead>\n",
       "    <tr style=\"text-align: right;\">\n",
       "      <th></th>\n",
       "      <th>ФИО</th>\n",
       "      <th>betweenness</th>\n",
       "    </tr>\n",
       "  </thead>\n",
       "  <tbody>\n",
       "    <tr>\n",
       "      <th>2</th>\n",
       "      <td>Васильев Даниил</td>\n",
       "      <td>3.763212e+08</td>\n",
       "    </tr>\n",
       "    <tr>\n",
       "      <th>8</th>\n",
       "      <td>Уваров Андрей</td>\n",
       "      <td>2.582943e+08</td>\n",
       "    </tr>\n",
       "    <tr>\n",
       "      <th>0</th>\n",
       "      <td>Алексеева Екатерина</td>\n",
       "      <td>2.216337e+08</td>\n",
       "    </tr>\n",
       "    <tr>\n",
       "      <th>3</th>\n",
       "      <td>Воронов Кирилл</td>\n",
       "      <td>1.895729e+08</td>\n",
       "    </tr>\n",
       "    <tr>\n",
       "      <th>1</th>\n",
       "      <td>Бирюков Виктор</td>\n",
       "      <td>7.206973e+07</td>\n",
       "    </tr>\n",
       "    <tr>\n",
       "      <th>7</th>\n",
       "      <td>Пивницкий Даниэль</td>\n",
       "      <td>6.474338e+07</td>\n",
       "    </tr>\n",
       "    <tr>\n",
       "      <th>6</th>\n",
       "      <td>Новиков Никита</td>\n",
       "      <td>3.442443e+07</td>\n",
       "    </tr>\n",
       "    <tr>\n",
       "      <th>4</th>\n",
       "      <td>Гребенков Дмитрий</td>\n",
       "      <td>3.184934e+07</td>\n",
       "    </tr>\n",
       "    <tr>\n",
       "      <th>9</th>\n",
       "      <td>Шубин Григорий</td>\n",
       "      <td>1.344226e+05</td>\n",
       "    </tr>\n",
       "    <tr>\n",
       "      <th>5</th>\n",
       "      <td>Ляшун Дмитрий</td>\n",
       "      <td>1.140182e+05</td>\n",
       "    </tr>\n",
       "  </tbody>\n",
       "</table>\n",
       "</div>"
      ],
      "text/plain": [
       "                   ФИО   betweenness\n",
       "2      Васильев Даниил  3.763212e+08\n",
       "8        Уваров Андрей  2.582943e+08\n",
       "0  Алексеева Екатерина  2.216337e+08\n",
       "3       Воронов Кирилл  1.895729e+08\n",
       "1       Бирюков Виктор  7.206973e+07\n",
       "7    Пивницкий Даниэль  6.474338e+07\n",
       "6       Новиков Никита  3.442443e+07\n",
       "4    Гребенков Дмитрий  3.184934e+07\n",
       "9       Шубин Григорий  1.344226e+05\n",
       "5        Ляшун Дмитрий  1.140182e+05"
      ]
     },
     "execution_count": 12,
     "metadata": {},
     "output_type": "execute_result"
    }
   ],
   "source": [
    "people[people['level']==0].sort_values(by='betweenness', ascending=False)[['ФИО', 'betweenness']]"
   ]
  },
  {
   "cell_type": "markdown",
   "id": "1f758295-c906-4a3f-871d-3971520ab3b8",
   "metadata": {},
   "source": [
    "## Центральность по собственному значению"
   ]
  },
  {
   "cell_type": "code",
   "execution_count": 13,
   "id": "f9360a8d",
   "metadata": {},
   "outputs": [
    {
     "data": {
      "text/html": [
       "<div>\n",
       "<style scoped>\n",
       "    .dataframe tbody tr th:only-of-type {\n",
       "        vertical-align: middle;\n",
       "    }\n",
       "\n",
       "    .dataframe tbody tr th {\n",
       "        vertical-align: top;\n",
       "    }\n",
       "\n",
       "    .dataframe thead th {\n",
       "        text-align: right;\n",
       "    }\n",
       "</style>\n",
       "<table border=\"1\" class=\"dataframe\">\n",
       "  <thead>\n",
       "    <tr style=\"text-align: right;\">\n",
       "      <th></th>\n",
       "      <th>ФИО</th>\n",
       "      <th>eigenvector</th>\n",
       "    </tr>\n",
       "  </thead>\n",
       "  <tbody>\n",
       "    <tr>\n",
       "      <th>0</th>\n",
       "      <td>Алексеева Екатерина</td>\n",
       "      <td>0.289727</td>\n",
       "    </tr>\n",
       "    <tr>\n",
       "      <th>6</th>\n",
       "      <td>Новиков Никита</td>\n",
       "      <td>0.010519</td>\n",
       "    </tr>\n",
       "    <tr>\n",
       "      <th>2</th>\n",
       "      <td>Васильев Даниил</td>\n",
       "      <td>0.010033</td>\n",
       "    </tr>\n",
       "    <tr>\n",
       "      <th>8</th>\n",
       "      <td>Уваров Андрей</td>\n",
       "      <td>0.007296</td>\n",
       "    </tr>\n",
       "    <tr>\n",
       "      <th>7</th>\n",
       "      <td>Пивницкий Даниэль</td>\n",
       "      <td>0.003470</td>\n",
       "    </tr>\n",
       "    <tr>\n",
       "      <th>3</th>\n",
       "      <td>Воронов Кирилл</td>\n",
       "      <td>0.001574</td>\n",
       "    </tr>\n",
       "    <tr>\n",
       "      <th>9</th>\n",
       "      <td>Шубин Григорий</td>\n",
       "      <td>0.001485</td>\n",
       "    </tr>\n",
       "    <tr>\n",
       "      <th>1</th>\n",
       "      <td>Бирюков Виктор</td>\n",
       "      <td>0.000559</td>\n",
       "    </tr>\n",
       "    <tr>\n",
       "      <th>4</th>\n",
       "      <td>Гребенков Дмитрий</td>\n",
       "      <td>0.000554</td>\n",
       "    </tr>\n",
       "    <tr>\n",
       "      <th>5</th>\n",
       "      <td>Ляшун Дмитрий</td>\n",
       "      <td>0.000121</td>\n",
       "    </tr>\n",
       "  </tbody>\n",
       "</table>\n",
       "</div>"
      ],
      "text/plain": [
       "                   ФИО  eigenvector\n",
       "0  Алексеева Екатерина     0.289727\n",
       "6       Новиков Никита     0.010519\n",
       "2      Васильев Даниил     0.010033\n",
       "8        Уваров Андрей     0.007296\n",
       "7    Пивницкий Даниэль     0.003470\n",
       "3       Воронов Кирилл     0.001574\n",
       "9       Шубин Григорий     0.001485\n",
       "1       Бирюков Виктор     0.000559\n",
       "4    Гребенков Дмитрий     0.000554\n",
       "5        Ляшун Дмитрий     0.000121"
      ]
     },
     "execution_count": 13,
     "metadata": {},
     "output_type": "execute_result"
    }
   ],
   "source": [
    "people[people['level']==0].sort_values(by='eigenvector', ascending=False)[['ФИО', 'eigenvector']]"
   ]
  },
  {
   "cell_type": "code",
   "execution_count": null,
   "id": "ab14148e",
   "metadata": {},
   "outputs": [],
   "source": []
  }
 ],
 "metadata": {
  "kernelspec": {
   "display_name": "Python 3 (ipykernel)",
   "language": "python",
   "name": "python3"
  },
  "language_info": {
   "codemirror_mode": {
    "name": "ipython",
    "version": 3
   },
   "file_extension": ".py",
   "mimetype": "text/x-python",
   "name": "python",
   "nbconvert_exporter": "python",
   "pygments_lexer": "ipython3",
   "version": "3.11.5"
  }
 },
 "nbformat": 4,
 "nbformat_minor": 5
}
