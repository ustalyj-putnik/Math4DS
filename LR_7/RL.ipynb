{
 "cells": [
  {
   "cell_type": "code",
   "execution_count": 3,
   "id": "96f5570f-da34-4485-a39e-2ce7f694e4bf",
   "metadata": {},
   "outputs": [],
   "source": [
    "import numpy as np"
   ]
  },
  {
   "cell_type": "code",
   "execution_count": 25,
   "id": "439ab1ab-d22b-41c8-aaf9-0a825ae93f61",
   "metadata": {},
   "outputs": [],
   "source": [
    "# Количество клеток по вертикали и горизонтали\n",
    "rows, cols = 5, 5\n",
    "\n",
    "# Коэффициент обесценивания\n",
    "gamma = 0.9\n",
    "\n",
    "# Штраф за шаг за пределы поля\n",
    "penalty = -1\n",
    "\n",
    "# Создаем матрицу коэффициентов\n",
    "A = np.zeros((rows * cols, rows * cols))\n",
    "b = np.zeros(rows * cols)"
   ]
  },
  {
   "cell_type": "code",
   "execution_count": 26,
   "id": "dd5f8edf-b109-4452-ac87-0e8b719ac2a5",
   "metadata": {},
   "outputs": [],
   "source": [
    "for i in range(rows):\n",
    "    for j in range(cols):\n",
    "        index = i * cols + j  # Индекс текущей клетки в одномерном представлении\n",
    "        A[index, index] = 1  # Коэффициент при V(s)\n",
    "        \n",
    "        neighbors = [(i-1, j), (i+1, j), (i, j-1), (i, j+1)]  # Соседние клетки\n",
    "\n",
    "        # Заполняем вектор свободных членов\n",
    "        if (i, j) == (0, 1):  # Клетка A\n",
    "            next_index = 4 * cols + 1  # индекс A`\n",
    "            A[index, next_index] = (-1)*gamma\n",
    "            b[index] = 10\n",
    "        elif (i, j) == (0, 3):  # Клетка B\n",
    "            next_index = 2 * cols + 3  # индекс B`\n",
    "            A[index, next_index] = (-1)*gamma\n",
    "            b[index] = 5\n",
    "        else:\n",
    "            for neighbor_i, neighbor_j in neighbors:\n",
    "                if 0 <= neighbor_i < rows and 0 <= neighbor_j < cols:\n",
    "                    neighbor_index = neighbor_i * cols + neighbor_j\n",
    "                    A[index, neighbor_index] -= gamma * 0.25  # Дисконтирование\n",
    "                else:\n",
    "                    # Штраф за выход за пределы поля\n",
    "                    A[index, index] -= gamma * 0.25 \n",
    "                    b[index] += penalty * 0.25  # Штраф добавляется к вектору свободных членов"
   ]
  },
  {
   "cell_type": "code",
   "execution_count": 27,
   "id": "9aa4a223-a18c-4e56-ae3e-e0233b5e7a77",
   "metadata": {},
   "outputs": [],
   "source": [
    "# Решаем систему уравнений\n",
    "V = np.linalg.solve(A, b)"
   ]
  },
  {
   "cell_type": "code",
   "execution_count": 28,
   "id": "306cd670-3051-49e7-b3dc-d3161487ab70",
   "metadata": {},
   "outputs": [
    {
     "name": "stdout",
     "output_type": "stream",
     "text": [
      "Функции ценности состояния:\n",
      "[[ 3.30899634  8.78929186  4.42761918  5.32236759  1.49217876]\n",
      " [ 1.52158807  2.99231786  2.25013995  1.9075717   0.54740271]\n",
      " [ 0.05082249  0.73817059  0.67311326  0.35818621 -0.40314114]\n",
      " [-0.9735923  -0.43549543 -0.35488227 -0.58560509 -1.18307508]\n",
      " [-1.85770055 -1.34523126 -1.22926726 -1.42291815 -1.97517905]]\n"
     ]
    }
   ],
   "source": [
    "# Выводим результаты\n",
    "V_matrix = V.reshape((rows, cols))\n",
    "print(\"Функции ценности состояния:\")\n",
    "print(V_matrix)"
   ]
  },
  {
   "cell_type": "code",
   "execution_count": null,
   "id": "40cd86f0-6a4d-4352-ad19-9106c9b0ff82",
   "metadata": {},
   "outputs": [],
   "source": []
  }
 ],
 "metadata": {
  "kernelspec": {
   "display_name": "Python 3 (ipykernel)",
   "language": "python",
   "name": "python3"
  },
  "language_info": {
   "codemirror_mode": {
    "name": "ipython",
    "version": 3
   },
   "file_extension": ".py",
   "mimetype": "text/x-python",
   "name": "python",
   "nbconvert_exporter": "python",
   "pygments_lexer": "ipython3",
   "version": "3.9.13"
  }
 },
 "nbformat": 4,
 "nbformat_minor": 5
}
