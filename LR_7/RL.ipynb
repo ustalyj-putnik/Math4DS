{
 "cells": [
  {
   "cell_type": "code",
   "execution_count": 1,
   "id": "96f5570f-da34-4485-a39e-2ce7f694e4bf",
   "metadata": {},
   "outputs": [],
   "source": [
    "import numpy as np"
   ]
  },
  {
   "cell_type": "code",
   "execution_count": 144,
   "id": "439ab1ab-d22b-41c8-aaf9-0a825ae93f61",
   "metadata": {},
   "outputs": [],
   "source": [
    "# Количество клеток по вертикали и горизонтали\n",
    "rows, cols = 5, 5\n",
    "\n",
    "# Коэффициент обесценивания\n",
    "gamma = 0.9\n",
    "\n",
    "# Штраф за шаг за пределы поля\n",
    "penalty = -1\n",
    "\n",
    "# Создаем матрицу коэффициентов\n",
    "A = np.zeros((rows * cols, rows * cols))\n",
    "b = np.zeros(rows * cols)"
   ]
  },
  {
   "cell_type": "code",
   "execution_count": 145,
   "id": "dd5f8edf-b109-4452-ac87-0e8b719ac2a5",
   "metadata": {},
   "outputs": [],
   "source": [
    "for i in range(rows):\n",
    "    for j in range(cols):\n",
    "        index = i * cols + j  # Индекс текущей клетки в одномерном представлении\n",
    "        A[index, index] = -1  # Коэффициент при V(s)\n",
    "        \n",
    "        neighbors = [(i-1, j), (i+1, j), (i, j-1), (i, j+1)]  # Соседние клетки\n",
    "\n",
    "        for neighbor_i, neighbor_j in neighbors:\n",
    "            if 0 <= neighbor_i < rows and 0 <= neighbor_j < cols:\n",
    "                neighbor_index = neighbor_i * cols + neighbor_j\n",
    "                A[index, neighbor_index] += gamma / 4  # Дисконтирование\n",
    "            else:\n",
    "                # Штраф за выход за пределы поля\n",
    "                b[index] -= penalty / 4  # Штраф добавляется к вектору свободных членов\n",
    "\n",
    "        # Заполняем вектор свободных членов\n",
    "        if (i, j) == (0, 1):  # Клетка A\n",
    "            next_index = 4 * cols + 1  # индекс A`\n",
    "            A[index, next_index] = gamma\n",
    "            b[index] = -10\n",
    "        elif (i, j) == (0, 3):  # Клетка B\n",
    "            next_index = 2 * cols + 3  # индекс B`\n",
    "            A[index, next_index] = gamma\n",
    "            b[index] = -5"
   ]
  },
  {
   "cell_type": "code",
   "execution_count": 146,
   "id": "9aa4a223-a18c-4e56-ae3e-e0233b5e7a77",
   "metadata": {},
   "outputs": [],
   "source": [
    "# Решаем систему уравнений\n",
    "V = np.linalg.solve(A, b)"
   ]
  },
  {
   "cell_type": "code",
   "execution_count": 147,
   "id": "306cd670-3051-49e7-b3dc-d3161487ab70",
   "metadata": {},
   "outputs": [
    {
     "name": "stdout",
     "output_type": "stream",
     "text": [
      "Функции ценности состояния:\n",
      "[[ 2.51504644 12.14251992  4.90150614  7.8706662   1.42920104]\n",
      " [ 1.25768649  3.94328156  2.88239672  2.78277356  0.70356063]\n",
      " [ 0.24250085  1.24309268  1.18309082  0.91125893  0.02607265]\n",
      " [-0.31188651  0.15598314  0.22143309  0.05810266 -0.38782999]\n",
      " [-0.67353516 -0.45938085 -0.41302954 -0.48662798 -0.69675304]]\n"
     ]
    }
   ],
   "source": [
    "# Выводим результаты\n",
    "V_matrix = V.reshape((rows, cols))\n",
    "print(\"Функции ценности состояния:\")\n",
    "print(V_matrix)"
   ]
  },
  {
   "cell_type": "code",
   "execution_count": null,
   "id": "40cd86f0-6a4d-4352-ad19-9106c9b0ff82",
   "metadata": {},
   "outputs": [],
   "source": []
  }
 ],
 "metadata": {
  "kernelspec": {
   "display_name": "Python 3 (ipykernel)",
   "language": "python",
   "name": "python3"
  },
  "language_info": {
   "codemirror_mode": {
    "name": "ipython",
    "version": 3
   },
   "file_extension": ".py",
   "mimetype": "text/x-python",
   "name": "python",
   "nbconvert_exporter": "python",
   "pygments_lexer": "ipython3",
   "version": "3.9.13"
  }
 },
 "nbformat": 4,
 "nbformat_minor": 5
}
