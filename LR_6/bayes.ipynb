{
 "cells": [
  {
   "cell_type": "code",
   "execution_count": 48,
   "id": "401580f9",
   "metadata": {},
   "outputs": [],
   "source": [
    "from pgmpy.models import BayesianNetwork\n",
    "from pgmpy.estimators import BayesianEstimator\n",
    "from pgmpy.estimators import HillClimbSearch\n",
    "from pgmpy.estimators import K2Score\n",
    "from sklearn.model_selection import train_test_split\n",
    "from sklearn.metrics import accuracy_score\n",
    "import numpy as np\n",
    "import pandas as pd"
   ]
  },
  {
   "cell_type": "markdown",
   "id": "2a12a580-9ac2-4a26-8ee1-584a396c1876",
   "metadata": {},
   "source": [
    "## Создаём синтетический датасет"
   ]
  },
  {
   "cell_type": "code",
   "execution_count": 49,
   "id": "53443128-bdff-41ff-a8c3-87518eedf23a",
   "metadata": {},
   "outputs": [
    {
     "data": {
      "text/html": [
       "<div>\n",
       "<style scoped>\n",
       "    .dataframe tbody tr th:only-of-type {\n",
       "        vertical-align: middle;\n",
       "    }\n",
       "\n",
       "    .dataframe tbody tr th {\n",
       "        vertical-align: top;\n",
       "    }\n",
       "\n",
       "    .dataframe thead th {\n",
       "        text-align: right;\n",
       "    }\n",
       "</style>\n",
       "<table border=\"1\" class=\"dataframe\">\n",
       "  <thead>\n",
       "    <tr style=\"text-align: right;\">\n",
       "      <th></th>\n",
       "      <th>B</th>\n",
       "      <th>E</th>\n",
       "      <th>A</th>\n",
       "      <th>J</th>\n",
       "      <th>M</th>\n",
       "    </tr>\n",
       "  </thead>\n",
       "  <tbody>\n",
       "    <tr>\n",
       "      <th>0</th>\n",
       "      <td>-</td>\n",
       "      <td>-</td>\n",
       "      <td>-</td>\n",
       "      <td>-</td>\n",
       "      <td>-</td>\n",
       "    </tr>\n",
       "    <tr>\n",
       "      <th>1</th>\n",
       "      <td>-</td>\n",
       "      <td>-</td>\n",
       "      <td>-</td>\n",
       "      <td>-</td>\n",
       "      <td>-</td>\n",
       "    </tr>\n",
       "    <tr>\n",
       "      <th>2</th>\n",
       "      <td>-</td>\n",
       "      <td>-</td>\n",
       "      <td>-</td>\n",
       "      <td>-</td>\n",
       "      <td>-</td>\n",
       "    </tr>\n",
       "    <tr>\n",
       "      <th>3</th>\n",
       "      <td>-</td>\n",
       "      <td>-</td>\n",
       "      <td>-</td>\n",
       "      <td>-</td>\n",
       "      <td>+</td>\n",
       "    </tr>\n",
       "    <tr>\n",
       "      <th>4</th>\n",
       "      <td>-</td>\n",
       "      <td>-</td>\n",
       "      <td>-</td>\n",
       "      <td>-</td>\n",
       "      <td>-</td>\n",
       "    </tr>\n",
       "    <tr>\n",
       "      <th>...</th>\n",
       "      <td>...</td>\n",
       "      <td>...</td>\n",
       "      <td>...</td>\n",
       "      <td>...</td>\n",
       "      <td>...</td>\n",
       "    </tr>\n",
       "    <tr>\n",
       "      <th>19995</th>\n",
       "      <td>-</td>\n",
       "      <td>-</td>\n",
       "      <td>-</td>\n",
       "      <td>-</td>\n",
       "      <td>-</td>\n",
       "    </tr>\n",
       "    <tr>\n",
       "      <th>19996</th>\n",
       "      <td>-</td>\n",
       "      <td>-</td>\n",
       "      <td>-</td>\n",
       "      <td>+</td>\n",
       "      <td>-</td>\n",
       "    </tr>\n",
       "    <tr>\n",
       "      <th>19997</th>\n",
       "      <td>-</td>\n",
       "      <td>-</td>\n",
       "      <td>-</td>\n",
       "      <td>-</td>\n",
       "      <td>-</td>\n",
       "    </tr>\n",
       "    <tr>\n",
       "      <th>19998</th>\n",
       "      <td>-</td>\n",
       "      <td>-</td>\n",
       "      <td>-</td>\n",
       "      <td>-</td>\n",
       "      <td>-</td>\n",
       "    </tr>\n",
       "    <tr>\n",
       "      <th>19999</th>\n",
       "      <td>-</td>\n",
       "      <td>-</td>\n",
       "      <td>-</td>\n",
       "      <td>-</td>\n",
       "      <td>-</td>\n",
       "    </tr>\n",
       "  </tbody>\n",
       "</table>\n",
       "<p>20000 rows × 5 columns</p>\n",
       "</div>"
      ],
      "text/plain": [
       "       B  E  A  J  M\n",
       "0      -  -  -  -  -\n",
       "1      -  -  -  -  -\n",
       "2      -  -  -  -  -\n",
       "3      -  -  -  -  +\n",
       "4      -  -  -  -  -\n",
       "...   .. .. .. .. ..\n",
       "19995  -  -  -  -  -\n",
       "19996  -  -  -  +  -\n",
       "19997  -  -  -  -  -\n",
       "19998  -  -  -  -  -\n",
       "19999  -  -  -  -  -\n",
       "\n",
       "[20000 rows x 5 columns]"
      ]
     },
     "execution_count": 49,
     "metadata": {},
     "output_type": "execute_result"
    }
   ],
   "source": [
    "import numpy as np\n",
    "import pandas as pd\n",
    "\n",
    "# Задаем события\n",
    "events = ['B', 'E', 'A', 'J', 'M']\n",
    "\n",
    "# Задаем вероятности для событий B и E\n",
    "probabilities_B = [0.001, 0.999]\n",
    "probabilities_E = [0.002, 0.998]\n",
    "\n",
    "# Генерируем события B и E\n",
    "B_outcomes = np.random.choice(['+', '-'], size=20000, p=probabilities_B)\n",
    "E_outcomes = np.random.choice(['+', '-'], size=20000, p=probabilities_E)\n",
    "\n",
    "# Задаем таблицу условных вероятностей для события A при условии B и E\n",
    "conditional_probabilities_A = {\n",
    "    ('+', '+'): {'+': 0.95, '-': 0.05},\n",
    "    ('+', '-'): {'+': 0.94, '-': 0.06},\n",
    "    ('-', '+'): {'+': 0.29, '-': 0.71},\n",
    "    ('-', '-'): {'+': 0.001, '-': 0.999}\n",
    "}\n",
    "\n",
    "# Задаем таблицы условных вероятностей для событий J и M при условии A\n",
    "conditional_probabilities_J = {'+': {'+': 0.9, '-': 0.1}, '-': {'+': 0.05, '-': 0.95}}\n",
    "conditional_probabilities_M = {'+': {'+': 0.7, '-': 0.3}, '-': {'+': 0.01, '-': 0.99}}\n",
    "\n",
    "# Генерируем события A, J и M\n",
    "A_outcomes = []\n",
    "J_outcomes = []\n",
    "M_outcomes = []\n",
    "\n",
    "for i in range(20000):\n",
    "    B_event = B_outcomes[i]\n",
    "    E_event = E_outcomes[i]\n",
    "    \n",
    "    # Генерация A\n",
    "    A_event = np.random.choice(['+', '-'], p=[conditional_probabilities_A[(B_event, E_event)]['+'], conditional_probabilities_A[(B_event, E_event)]['-']])\n",
    "    \n",
    "    # Генерация J\n",
    "    J_event = np.random.choice(['+', '-'], p=[conditional_probabilities_J[A_event]['+'], conditional_probabilities_J[A_event]['-']])\n",
    "    \n",
    "    # Генерация M\n",
    "    M_event = np.random.choice(['+', '-'], p=[conditional_probabilities_M[A_event]['+'], conditional_probabilities_M[A_event]['-']])\n",
    "    \n",
    "    A_outcomes.append(A_event)\n",
    "    J_outcomes.append(J_event)\n",
    "    M_outcomes.append(M_event)\n",
    "\n",
    "# Создаем DataFrame\n",
    "df = pd.DataFrame({'B': B_outcomes, 'E': E_outcomes, 'A': A_outcomes, 'J': J_outcomes, 'M': M_outcomes})\n",
    "\n",
    "# Выводим синтетический датасет\n",
    "df"
   ]
  },
  {
   "cell_type": "markdown",
   "id": "0718a279-359d-46d7-9ea4-8eb594bb86de",
   "metadata": {},
   "source": [
    "## Определяем структуру сети"
   ]
  },
  {
   "cell_type": "code",
   "execution_count": 50,
   "id": "c4894e34-dc01-4f7a-ad44-024e3a614e66",
   "metadata": {},
   "outputs": [
    {
     "data": {
      "application/vnd.jupyter.widget-view+json": {
       "model_id": "d31788d8691c4082a5b54c9d38770c63",
       "version_major": 2,
       "version_minor": 0
      },
      "text/plain": [
       "  0%|          | 0/1000000 [00:00<?, ?it/s]"
      ]
     },
     "metadata": {},
     "output_type": "display_data"
    },
    {
     "name": "stdout",
     "output_type": "stream",
     "text": [
      "Найденная структура:\n",
      "[('B', 'A'), ('E', 'A'), ('A', 'M'), ('A', 'J')]\n"
     ]
    }
   ],
   "source": [
    "# Задаем данные\n",
    "data = df[['B', 'E', 'A', 'J', 'M']]\n",
    "\n",
    "# Инициализируем алгоритм Hill Climbing\n",
    "hc = HillClimbSearch(data)\n",
    "\n",
    "# Запускаем алгоритм для поиска оптимальной структуры\n",
    "best_model = hc.estimate(scoring_method=K2Score(data))\n",
    "\n",
    "# Выводим найденную структуру\n",
    "print(\"Найденная структура:\")\n",
    "print(best_model.edges())"
   ]
  },
  {
   "cell_type": "markdown",
   "id": "05e1cda9-ff98-4958-91f6-47eea5120af1",
   "metadata": {},
   "source": [
    "## Создаём, обучаем и тестируем Байесовскую сеть"
   ]
  },
  {
   "cell_type": "code",
   "execution_count": 51,
   "id": "a70c39ad-b6fd-4f6e-a560-5a1399d3274b",
   "metadata": {},
   "outputs": [
    {
     "data": {
      "application/vnd.jupyter.widget-view+json": {
       "model_id": "5b89516da832408baf2693b6dfbb7fd0",
       "version_major": 2,
       "version_minor": 0
      },
      "text/plain": [
       "  0%|          | 0/5 [00:00<?, ?it/s]"
      ]
     },
     "metadata": {},
     "output_type": "display_data"
    },
    {
     "name": "stdout",
     "output_type": "stream",
     "text": [
      "Точность прогнозирования для события J: 94.30%\n",
      "Точность прогнозирования для события M: 99.00%\n"
     ]
    }
   ],
   "source": [
    "# Создаем байесовскую сеть с найденной оптимальной структурой\n",
    "model = BayesianNetwork(best_model.edges())\n",
    "\n",
    "# Разделяем данные на обучающую и тестовую выборки\n",
    "train_data, test_data = train_test_split(data, test_size=0.2, random_state=42)\n",
    "\n",
    "# Обучаем параметры байесовской сети на обучающей выборке\n",
    "model.fit(train_data, estimator=BayesianEstimator)\n",
    "\n",
    "# Предсказываем значения для тестовой выборки\n",
    "predicted_data = model.predict(test_data.drop(columns=['J', 'M']))\n",
    "\n",
    "# Оцениваем точность прогнозирования\n",
    "accuracy_J = accuracy_score(test_data['J'], predicted_data['J'])\n",
    "accuracy_M = accuracy_score(test_data['M'], predicted_data['M'])\n",
    "\n",
    "print(f\"Точность прогнозирования для события J: {accuracy_J * 100:.2f}%\")\n",
    "print(f\"Точность прогнозирования для события M: {accuracy_M * 100:.2f}%\")"
   ]
  }
 ],
 "metadata": {
  "kernelspec": {
   "display_name": "Python 3 (ipykernel)",
   "language": "python",
   "name": "python3"
  },
  "language_info": {
   "codemirror_mode": {
    "name": "ipython",
    "version": 3
   },
   "file_extension": ".py",
   "mimetype": "text/x-python",
   "name": "python",
   "nbconvert_exporter": "python",
   "pygments_lexer": "ipython3",
   "version": "3.9.13"
  }
 },
 "nbformat": 4,
 "nbformat_minor": 5
}
