{
 "cells": [
  {
   "cell_type": "code",
   "execution_count": 1,
   "id": "401580f9",
   "metadata": {},
   "outputs": [
    {
     "name": "stderr",
     "output_type": "stream",
     "text": [
      "INFO:numexpr.utils:NumExpr defaulting to 8 threads.\n"
     ]
    }
   ],
   "source": [
    "from pgmpy.models import BayesianNetwork\n",
    "from pgmpy.factors.discrete import TabularCPD\n",
    "from pgmpy.inference import VariableElimination\n",
    "import numpy as np"
   ]
  },
  {
   "cell_type": "markdown",
   "id": "59c21130-c259-4710-af5f-d4cdc739ac30",
   "metadata": {},
   "source": [
    "## Создаём Баесовскую сеть"
   ]
  },
  {
   "cell_type": "code",
   "execution_count": 2,
   "id": "68c9f7bd",
   "metadata": {},
   "outputs": [],
   "source": [
    "#Создаём баесовскую сеть\n",
    "bayesNet = BayesianNetwork()\n",
    "\n",
    "#Создаём вершины (B - burglary, e - earthqk, A - alarm, J - John calls, M - Mary calls\n",
    "bayesNet.add_node(\"B\")\n",
    "bayesNet.add_node(\"E\")\n",
    "bayesNet.add_node(\"A\")\n",
    "bayesNet.add_node(\"J\")\n",
    "bayesNet.add_node(\"M\")"
   ]
  },
  {
   "cell_type": "code",
   "execution_count": 3,
   "id": "3743abb4-2b5d-43d1-b7d8-2686b6f437d1",
   "metadata": {},
   "outputs": [],
   "source": [
    "#Создаём грани\n",
    "bayesNet.add_edge(\"B\", \"A\")\n",
    "bayesNet.add_edge(\"E\", \"A\")\n",
    "bayesNet.add_edge(\"A\", \"J\")\n",
    "bayesNet.add_edge(\"A\", \"M\")"
   ]
  },
  {
   "cell_type": "markdown",
   "id": "e4235fa8-7260-4175-882c-1f6fe3facde1",
   "metadata": {},
   "source": [
    "## Записываем таблицы вероятностей для вершин сети"
   ]
  },
  {
   "cell_type": "code",
   "execution_count": 4,
   "id": "b019e563-a92b-497e-9a75-bfd482433a2a",
   "metadata": {},
   "outputs": [],
   "source": [
    "cpd_B = TabularCPD('B', 2, values=[[.999], [.001]])\n",
    "cpd_E = TabularCPD('E', 2, values=[[.998], [.002]])\n",
    "\n",
    "cpd_A = TabularCPD('A', 2, values=[[0.999, .71, .06, .05],\n",
    "                                   [.001, .29, .94, .95]],\n",
    "                   evidence=['B', 'E'], evidence_card=[2, 2])\n",
    "\n",
    "cpd_J = TabularCPD('J', 2,\n",
    "                   values=[[0.95, .1],\n",
    "                           [.05, .9]],\n",
    "                   evidence=['A'], evidence_card=[2])\n",
    "\n",
    "cpd_M = TabularCPD('M', 2,\n",
    "                   values=[[0.99, .3],\n",
    "                           [.01, .7]],\n",
    "                   evidence=['A'], evidence_card=[2])\n",
    "bayesNet.add_cpds(cpd_B, cpd_E, cpd_A, cpd_J, cpd_M)"
   ]
  },
  {
   "cell_type": "markdown",
   "id": "28e2d364-11ef-427e-801f-08835dc23c6b",
   "metadata": {},
   "source": [
    "## Проверяем модель на корректность работы"
   ]
  },
  {
   "cell_type": "code",
   "execution_count": 5,
   "id": "a349459c-406b-4dd4-8db3-c8cbf44ea957",
   "metadata": {},
   "outputs": [
    {
     "name": "stdout",
     "output_type": "stream",
     "text": [
      "Model is correct.\n"
     ]
    }
   ],
   "source": [
    "bayesNet.check_model()\n",
    "print(\"Model is correct.\")"
   ]
  },
  {
   "cell_type": "markdown",
   "id": "38975010-cfd3-428d-b3be-54d919dc25dd",
   "metadata": {},
   "source": [
    "## Созданём solver, который использует внутреннее исключение переменных для логического вывода"
   ]
  },
  {
   "cell_type": "code",
   "execution_count": 6,
   "id": "1574f8ec-7e3a-4d97-a5ba-d838ba43d244",
   "metadata": {},
   "outputs": [],
   "source": [
    "solver = VariableElimination(bayesNet)"
   ]
  },
  {
   "cell_type": "markdown",
   "id": "164f67ed-f145-468b-8f01-adcbcdf06cde",
   "metadata": {},
   "source": [
    "# Логический вывод для A и J|E=1"
   ]
  },
  {
   "cell_type": "code",
   "execution_count": 7,
   "id": "0c078ed4-4543-467b-be14-856bc8c7528f",
   "metadata": {},
   "outputs": [
    {
     "name": "stdout",
     "output_type": "stream",
     "text": [
      "A +------+----------+\n",
      "| A    |   phi(A) |\n",
      "+======+==========+\n",
      "| A(0) |   0.9975 |\n",
      "+------+----------+\n",
      "| A(1) |   0.0025 |\n",
      "+------+----------+\n"
     ]
    }
   ],
   "source": [
    "result = solver.query(variables=['A'])\n",
    "print(\"A\", result)"
   ]
  },
  {
   "cell_type": "code",
   "execution_count": 8,
   "id": "7e702962-3670-43c3-b930-b76f9db89a72",
   "metadata": {},
   "outputs": [
    {
     "name": "stdout",
     "output_type": "stream",
     "text": [
      "J|E=1 +------+----------+\n",
      "| J    |   phi(J) |\n",
      "+======+==========+\n",
      "| J(0) |   0.7029 |\n",
      "+------+----------+\n",
      "| J(1) |   0.2971 |\n",
      "+------+----------+\n"
     ]
    }
   ],
   "source": [
    "result = solver.query(variables=['J'], evidence={'E': 1})\n",
    "print(\"J|E=1\", result)"
   ]
  }
 ],
 "metadata": {
  "kernelspec": {
   "display_name": "Python 3 (ipykernel)",
   "language": "python",
   "name": "python3"
  },
  "language_info": {
   "codemirror_mode": {
    "name": "ipython",
    "version": 3
   },
   "file_extension": ".py",
   "mimetype": "text/x-python",
   "name": "python",
   "nbconvert_exporter": "python",
   "pygments_lexer": "ipython3",
   "version": "3.9.13"
  }
 },
 "nbformat": 4,
 "nbformat_minor": 5
}
