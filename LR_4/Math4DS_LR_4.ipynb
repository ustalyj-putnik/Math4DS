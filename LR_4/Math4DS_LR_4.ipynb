{
 "cells": [
  {
   "cell_type": "code",
   "execution_count": 88,
   "id": "1a80f931-7361-4410-beeb-641b4ed3d3bd",
   "metadata": {},
   "outputs": [],
   "source": [
    "import seaborn as sns\n",
    "import matplotlib.pyplot as plt\n",
    "import pandas as pd\n",
    "import numpy as np\n",
    "import scipy.stats\n",
    "import math"
   ]
  },
  {
   "cell_type": "markdown",
   "id": "6772b5e4-8837-457a-a10d-484f8f2f378a",
   "metadata": {},
   "source": [
    "## Загружаем сырые данные"
   ]
  },
  {
   "cell_type": "code",
   "execution_count": 89,
   "id": "21d46444-5a00-4c1e-8d31-5b679b148111",
   "metadata": {},
   "outputs": [
    {
     "data": {
      "text/html": [
       "<div>\n",
       "<style scoped>\n",
       "    .dataframe tbody tr th:only-of-type {\n",
       "        vertical-align: middle;\n",
       "    }\n",
       "\n",
       "    .dataframe tbody tr th {\n",
       "        vertical-align: top;\n",
       "    }\n",
       "\n",
       "    .dataframe thead th {\n",
       "        text-align: right;\n",
       "    }\n",
       "</style>\n",
       "<table border=\"1\" class=\"dataframe\">\n",
       "  <thead>\n",
       "    <tr style=\"text-align: right;\">\n",
       "      <th></th>\n",
       "      <th>Invoice</th>\n",
       "      <th>Quantity</th>\n",
       "    </tr>\n",
       "  </thead>\n",
       "  <tbody>\n",
       "    <tr>\n",
       "      <th>0</th>\n",
       "      <td>489434</td>\n",
       "      <td>12</td>\n",
       "    </tr>\n",
       "    <tr>\n",
       "      <th>1</th>\n",
       "      <td>489434</td>\n",
       "      <td>12</td>\n",
       "    </tr>\n",
       "    <tr>\n",
       "      <th>2</th>\n",
       "      <td>489434</td>\n",
       "      <td>12</td>\n",
       "    </tr>\n",
       "    <tr>\n",
       "      <th>3</th>\n",
       "      <td>489434</td>\n",
       "      <td>48</td>\n",
       "    </tr>\n",
       "    <tr>\n",
       "      <th>4</th>\n",
       "      <td>489434</td>\n",
       "      <td>24</td>\n",
       "    </tr>\n",
       "    <tr>\n",
       "      <th>...</th>\n",
       "      <td>...</td>\n",
       "      <td>...</td>\n",
       "    </tr>\n",
       "    <tr>\n",
       "      <th>944463</th>\n",
       "      <td>575312</td>\n",
       "      <td>6</td>\n",
       "    </tr>\n",
       "    <tr>\n",
       "      <th>944464</th>\n",
       "      <td>575312</td>\n",
       "      <td>4</td>\n",
       "    </tr>\n",
       "    <tr>\n",
       "      <th>944465</th>\n",
       "      <td>575312</td>\n",
       "      <td>6</td>\n",
       "    </tr>\n",
       "    <tr>\n",
       "      <th>944466</th>\n",
       "      <td>575312</td>\n",
       "      <td>12</td>\n",
       "    </tr>\n",
       "    <tr>\n",
       "      <th>944467</th>\n",
       "      <td>575312</td>\n",
       "      <td>12</td>\n",
       "    </tr>\n",
       "  </tbody>\n",
       "</table>\n",
       "<p>944468 rows × 2 columns</p>\n",
       "</div>"
      ],
      "text/plain": [
       "       Invoice  Quantity\n",
       "0       489434        12\n",
       "1       489434        12\n",
       "2       489434        12\n",
       "3       489434        48\n",
       "4       489434        24\n",
       "...        ...       ...\n",
       "944463  575312         6\n",
       "944464  575312         4\n",
       "944465  575312         6\n",
       "944466  575312        12\n",
       "944467  575312        12\n",
       "\n",
       "[944468 rows x 2 columns]"
      ]
     },
     "execution_count": 89,
     "metadata": {},
     "output_type": "execute_result"
    }
   ],
   "source": [
    "raw_data = pd.read_csv('dset.csv', sep = ';')\n",
    "raw_data"
   ]
  },
  {
   "cell_type": "markdown",
   "id": "6dd298d2-8e98-4ceb-9928-e4027cf7e07c",
   "metadata": {},
   "source": [
    "## Группируем данные по номерам чеков, суммируя количество товаров в каждой позиции"
   ]
  },
  {
   "cell_type": "code",
   "execution_count": 90,
   "id": "6f8a7609-849e-46c2-8806-9e521fa3bfe3",
   "metadata": {},
   "outputs": [
    {
     "data": {
      "text/html": [
       "<div>\n",
       "<style scoped>\n",
       "    .dataframe tbody tr th:only-of-type {\n",
       "        vertical-align: middle;\n",
       "    }\n",
       "\n",
       "    .dataframe tbody tr th {\n",
       "        vertical-align: top;\n",
       "    }\n",
       "\n",
       "    .dataframe thead th {\n",
       "        text-align: right;\n",
       "    }\n",
       "</style>\n",
       "<table border=\"1\" class=\"dataframe\">\n",
       "  <thead>\n",
       "    <tr style=\"text-align: right;\">\n",
       "      <th></th>\n",
       "      <th>Quantity</th>\n",
       "    </tr>\n",
       "    <tr>\n",
       "      <th>Invoice</th>\n",
       "      <th></th>\n",
       "    </tr>\n",
       "  </thead>\n",
       "  <tbody>\n",
       "    <tr>\n",
       "      <th>C496350</th>\n",
       "      <td>1</td>\n",
       "    </tr>\n",
       "    <tr>\n",
       "      <th>556934</th>\n",
       "      <td>1</td>\n",
       "    </tr>\n",
       "    <tr>\n",
       "      <th>556947</th>\n",
       "      <td>1</td>\n",
       "    </tr>\n",
       "    <tr>\n",
       "      <th>556948</th>\n",
       "      <td>1</td>\n",
       "    </tr>\n",
       "    <tr>\n",
       "      <th>556949</th>\n",
       "      <td>1</td>\n",
       "    </tr>\n",
       "    <tr>\n",
       "      <th>...</th>\n",
       "      <td>...</td>\n",
       "    </tr>\n",
       "    <tr>\n",
       "      <th>501534</th>\n",
       "      <td>63974</td>\n",
       "    </tr>\n",
       "    <tr>\n",
       "      <th>541431</th>\n",
       "      <td>74215</td>\n",
       "    </tr>\n",
       "    <tr>\n",
       "      <th>497946</th>\n",
       "      <td>83774</td>\n",
       "    </tr>\n",
       "    <tr>\n",
       "      <th>518505</th>\n",
       "      <td>87167</td>\n",
       "    </tr>\n",
       "    <tr>\n",
       "      <th>524174</th>\n",
       "      <td>87167</td>\n",
       "    </tr>\n",
       "  </tbody>\n",
       "</table>\n",
       "<p>38973 rows × 1 columns</p>\n",
       "</div>"
      ],
      "text/plain": [
       "         Quantity\n",
       "Invoice          \n",
       "C496350         1\n",
       "556934          1\n",
       "556947          1\n",
       "556948          1\n",
       "556949          1\n",
       "...           ...\n",
       "501534      63974\n",
       "541431      74215\n",
       "497946      83774\n",
       "518505      87167\n",
       "524174      87167\n",
       "\n",
       "[38973 rows x 1 columns]"
      ]
     },
     "execution_count": 90,
     "metadata": {},
     "output_type": "execute_result"
    }
   ],
   "source": [
    "group_data = raw_data.groupby([\"Invoice\"]).sum()\n",
    "df = group_data.loc[group_data['Quantity'] > 0]  #Исключаем строки с отрицательным количеством товаров (возвраты)\n",
    "df = df.sort_values(by=['Quantity'])  #Сортируем для удобства\n",
    "df"
   ]
  },
  {
   "cell_type": "markdown",
   "id": "b0d625c4-3615-4519-8a73-1014c48b0567",
   "metadata": {},
   "source": [
    "## Строим гистограмму, а также приблизительный график распределения"
   ]
  },
  {
   "cell_type": "code",
   "execution_count": 91,
   "id": "2244b831-f7a2-4ee6-915e-b9d865aa57f6",
   "metadata": {},
   "outputs": [
    {
     "data": {
      "image/png": "[encoded data removed]",
      "text/plain": [
       "<Figure size 640x480 with 1 Axes>"
      ]
     },
     "metadata": {},
     "output_type": "display_data"
    }
   ],
   "source": [
    "hist = sns.histplot(df['Quantity'][:38900], color = 'green', kde = True)\n",
    "plt.title(\"Гистограмма с количеством единиц товара в чеке\")\n",
    "plt.xlabel(\"Количество единиц товара в чеке\")\n",
    "plt.grid(linewidth=0.3)  # Добавляем сетку\n",
    "plt.xlim(0, 1500)\n",
    "plt.ylim(0, 4500)\n",
    "plt.show()"
   ]
  },
  {
   "cell_type": "markdown",
   "id": "884eaf19-e059-43b7-bdd5-3a6b357538f8",
   "metadata": {},
   "source": [
    "## Строим статистическое распределение вероятности на основе полученных данных, \n",
    "## а также максимально близкое к нему теоретическое распределение (chi2)"
   ]
  },
  {
   "cell_type": "code",
   "execution_count": 92,
   "id": "ef2c7da8-5070-433d-bbfd-c38e3fc1ac7f",
   "metadata": {},
   "outputs": [],
   "source": [
    "def f(l,x):\n",
    "    return l*np.exp(-l*x)\n",
    "\n",
    "def F(l,x):\n",
    "    return 1-np.exp(-l*x)"
   ]
  },
  {
   "cell_type": "code",
   "execution_count": 93,
   "id": "0a69e60a-a248-4902-9b8c-763ad4674804",
   "metadata": {},
   "outputs": [],
   "source": [
    "l = 1/quantities.mean()"
   ]
  },
  {
   "cell_type": "code",
   "execution_count": 94,
   "id": "f58078bf-227d-4dae-98d6-6c4395e14d35",
   "metadata": {},
   "outputs": [
    {
     "data": {
      "image/png": "[encoded data removed]",
      "text/plain": [
       "<Figure size 610.125x500 with 1 Axes>"
      ]
     },
     "metadata": {},
     "output_type": "display_data"
    }
   ],
   "source": [
    "counts = sns.displot(df[:38900], kind='kde', label='Статистическое распределение')  #распределение на основе статистических данных\n",
    "x = np.linspace(0, df['Quantity'].max(), 8716700)  #формируем непрерывный набор значений для графика распределения chi2\n",
    "y = scipy.stats.chi2.pdf(x, df=4, loc=-60,scale=60)\n",
    "plt.plot(x, y, color = 'red', label='Распределение chi2')  #теоретическое chi2 распределение\n",
    "plt.title(\"График распределения количества единиц товара в чеке\")\n",
    "plt.xlabel(\"Количество единиц товара в чеке\")\n",
    "plt.grid(linewidth=0.3)  # Добавляем сетку\n",
    "plt.xlim(0, 1500)\n",
    "plt.legend()\n",
    "plt.show()"
   ]
  },
  {
   "cell_type": "code",
   "execution_count": 174,
   "id": "18cfff7f-2b2f-4a70-b1ce-f5c155965cbe",
   "metadata": {},
   "outputs": [
    {
     "data": {
      "text/plain": [
       "Quantity\n",
       "1        1300\n",
       "2         598\n",
       "3         324\n",
       "4         364\n",
       "5         238\n",
       "         ... \n",
       "63302       1\n",
       "63974       1\n",
       "74215       1\n",
       "83774       1\n",
       "87167       2\n",
       "Length: 1830, dtype: int64"
      ]
     },
     "execution_count": 174,
     "metadata": {},
     "output_type": "execute_result"
    }
   ],
   "source": [
    "quantities = df.groupby('Quantity').size()  # Подсчитываем, сколько раз какое количество позиций в чеке встречалось\n",
    "quantities"
   ]
  },
  {
   "cell_type": "code",
   "execution_count": 96,
   "id": "48cdb03a-a22e-4185-9acb-5fddaafddce1",
   "metadata": {},
   "outputs": [
    {
     "data": {
      "text/plain": [
       "array([1300.,  598.,  324., ...,    0.,    0.,    2.])"
      ]
     },
     "execution_count": 96,
     "metadata": {},
     "output_type": "execute_result"
    }
   ],
   "source": [
    "full_quantities = np.zeros(df.max())  # Создаём массив с количеством элементов = самому большому количеству товаров в 1 чеке\n",
    "for i in list(quantities.index):      # В нём находятся вероятности встретить в чеке то или иное количество товара\n",
    "    full_quantities[i-1] = quantities.loc[i]\n",
    "full_quantities"
   ]
  },
  {
   "cell_type": "code",
   "execution_count": 195,
   "id": "aa702800-057b-46d1-ac1d-f1cc254e4499",
   "metadata": {},
   "outputs": [],
   "source": [
    "counts, points = np.histogram(full_quantities, bins=1500)  # Разбиваем гистограмму на промежутки"
   ]
  },
  {
   "cell_type": "code",
   "execution_count": 196,
   "id": "a63014c1-4c8f-4965-b8c9-e948d608030d",
   "metadata": {},
   "outputs": [],
   "source": [
    "obs_freq = counts.astype(float)/sum(counts)  # Массив с эксперименитальными вероятностями"
   ]
  },
  {
   "cell_type": "code",
   "execution_count": 197,
   "id": "b8913b31-ca84-491e-8743-a679d39596c2",
   "metadata": {},
   "outputs": [],
   "source": [
    "exp_freq=np.zeros_like(obs_freq)"
   ]
  },
  {
   "cell_type": "code",
   "execution_count": 198,
   "id": "3426baae-ae4f-4bec-af3e-b6891aa87a97",
   "metadata": {},
   "outputs": [],
   "source": [
    "for i in range(len(exp_freq)):  # Массив с теоретическими вероятностями (из распределения chi2 в каждой точке от нуля до\n",
    "    exp_freq[i] = y[i]          # максимально возможного количества товара"
   ]
  },
  {
   "cell_type": "code",
   "execution_count": 199,
   "id": "71cd1ff6-71d3-40cb-b18b-3d92557d8a40",
   "metadata": {},
   "outputs": [
    {
     "data": {
      "text/plain": [
       "Power_divergenceResult(statistic=1515.9286795255125, pvalue=0.3744138801068197)"
      ]
     },
     "execution_count": 199,
     "metadata": {},
     "output_type": "execute_result"
    }
   ],
   "source": [
    "scipy.stats.chisquare(obs_freq, exp_freq/sum(exp_freq)*sum(obs_freq))"
   ]
  },
  {
   "cell_type": "markdown",
   "id": "31bef3cd-b8d2-47ea-91b8-94209c8b139d",
   "metadata": {},
   "source": [
    "## pvalue больше 0.05. Гипотезу принимаем."
   ]
  },
  {
   "cell_type": "markdown",
   "id": "5385bf6f-7837-4965-9ba4-774a71011c74",
   "metadata": {},
   "source": [
    "## Ищем доверительный интервал"
   ]
  },
  {
   "cell_type": "code",
   "execution_count": 200,
   "id": "aee29862-47cc-407f-8355-cfdd98f5672a",
   "metadata": {},
   "outputs": [
    {
     "data": {
      "text/plain": [
       "1830"
      ]
     },
     "execution_count": 200,
     "metadata": {},
     "output_type": "execute_result"
    }
   ],
   "source": [
    "quantities = quantities.to_numpy()\n",
    "n = len(quantities)\n",
    "n"
   ]
  },
  {
   "cell_type": "code",
   "execution_count": 201,
   "id": "f792aa6a-d22b-4458-a657-0b5a085c4e4b",
   "metadata": {},
   "outputs": [],
   "source": [
    "beta = 0.8"
   ]
  },
  {
   "cell_type": "code",
   "execution_count": 202,
   "id": "abab15ce-d8ba-4db7-9a48-24d58ecfe775",
   "metadata": {},
   "outputs": [
    {
     "data": {
      "text/plain": [
       "21.29672131147541"
      ]
     },
     "execution_count": 202,
     "metadata": {},
     "output_type": "execute_result"
    }
   ],
   "source": [
    "m = quantities.mean()\n",
    "m"
   ]
  },
  {
   "cell_type": "code",
   "execution_count": 204,
   "id": "07ad857f-e0fb-4050-bca4-763a50d7982e",
   "metadata": {},
   "outputs": [
    {
     "data": {
      "text/plain": [
       "2753.114204662586"
      ]
     },
     "execution_count": 204,
     "metadata": {},
     "output_type": "execute_result"
    }
   ],
   "source": [
    "d = np.var(quantities, ddof = 1)\n",
    "d"
   ]
  },
  {
   "cell_type": "code",
   "execution_count": 205,
   "id": "4402e455-a612-42c9-8557-55279be75e1e",
   "metadata": {},
   "outputs": [
    {
     "data": {
      "text/plain": [
       "1.2265537051506956"
      ]
     },
     "execution_count": 205,
     "metadata": {},
     "output_type": "execute_result"
    }
   ],
   "source": [
    "sco = np.sqrt(d/n)\n",
    "sco"
   ]
  },
  {
   "cell_type": "code",
   "execution_count": 207,
   "id": "2d464096-64a9-47c9-a5d2-dda72aead072",
   "metadata": {},
   "outputs": [
    {
     "data": {
      "text/plain": [
       "1.2815515655446004"
      ]
     },
     "execution_count": 207,
     "metadata": {},
     "output_type": "execute_result"
    }
   ],
   "source": [
    "tb = scipy.stats.norm.ppf((1.0+beta)/2.0)\n",
    "tb"
   ]
  },
  {
   "cell_type": "code",
   "execution_count": 208,
   "id": "dd46504e-e957-4b26-a3af-d85386f9df8f",
   "metadata": {},
   "outputs": [
    {
     "data": {
      "text/plain": [
       "1.571891821060404"
      ]
     },
     "execution_count": 208,
     "metadata": {},
     "output_type": "execute_result"
    }
   ],
   "source": [
    "eps = tb*sco\n",
    "m1 = m - eps\n",
    "m2 = m + eps\n",
    "eps"
   ]
  },
  {
   "cell_type": "code",
   "execution_count": 209,
   "id": "6c5d18c0-f348-47f2-8890-f37803bcb755",
   "metadata": {},
   "outputs": [
    {
     "data": {
      "text/plain": [
       "'Доверительный интервал Ib = (19.7248; 22.8686)'"
      ]
     },
     "execution_count": 209,
     "metadata": {},
     "output_type": "execute_result"
    }
   ],
   "source": [
    "f\"Доверительный интервал Ib = ({m1:.4f}; {m2:.4f})\""
   ]
  },
  {
   "cell_type": "code",
   "execution_count": 210,
   "id": "ab24ed20-16cb-468b-b97f-3c94b65cae79",
   "metadata": {},
   "outputs": [
    {
     "data": {
      "text/plain": [
       "91.04002582822956"
      ]
     },
     "execution_count": 210,
     "metadata": {},
     "output_type": "execute_result"
    }
   ],
   "source": [
    "sco_d = np.sqrt(2/(n-1)) * d\n",
    "sco_d"
   ]
  },
  {
   "cell_type": "code",
   "execution_count": 211,
   "id": "4b53592a-9b25-4328-a2d7-87ed26acbad3",
   "metadata": {},
   "outputs": [
    {
     "data": {
      "text/plain": [
       "116.67248762738845"
      ]
     },
     "execution_count": 211,
     "metadata": {},
     "output_type": "execute_result"
    }
   ],
   "source": [
    "eps = tb*sco_d\n",
    "d1 = d - eps\n",
    "d2 = d + eps\n",
    "eps"
   ]
  },
  {
   "cell_type": "code",
   "execution_count": 212,
   "id": "cccc3e46-7606-4718-ba83-4d515e439e78",
   "metadata": {},
   "outputs": [
    {
     "data": {
      "text/plain": [
       "'Доверительный интервал дисперсии Ib = (2636.4417; 2869.7867)'"
      ]
     },
     "execution_count": 212,
     "metadata": {},
     "output_type": "execute_result"
    }
   ],
   "source": [
    "f\"Доверительный интервал дисперсии Ib = ({d1:.4f}; {d2:.4f})\""
   ]
  },
  {
   "cell_type": "code",
   "execution_count": 213,
   "id": "ebac57f8-3915-4d42-b2e6-3ab9fcc804d6",
   "metadata": {},
   "outputs": [
    {
     "data": {
      "text/plain": [
       "'Доверительный интервал СКО Ib = (51.3463; 53.5704)'"
      ]
     },
     "execution_count": 213,
     "metadata": {},
     "output_type": "execute_result"
    }
   ],
   "source": [
    "f\"Доверительный интервал СКО Ib = ({np.sqrt(d1):.4f}; {np.sqrt(d2):.4f})\""
   ]
  }
 ],
 "metadata": {
  "kernelspec": {
   "display_name": "Python 3 (ipykernel)",
   "language": "python",
   "name": "python3"
  },
  "language_info": {
   "codemirror_mode": {
    "name": "ipython",
    "version": 3
   },
   "file_extension": ".py",
   "mimetype": "text/x-python",
   "name": "python",
   "nbconvert_exporter": "python",
   "pygments_lexer": "ipython3",
   "version": "3.9.13"
  }
 },
 "nbformat": 4,
 "nbformat_minor": 5
}
